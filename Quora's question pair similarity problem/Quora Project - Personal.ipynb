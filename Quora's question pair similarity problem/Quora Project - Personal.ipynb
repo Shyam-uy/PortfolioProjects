{
 "cells": [
  {
   "cell_type": "markdown",
   "id": "68f9b52c",
   "metadata": {
    "id": "o9fciGc7s5Vu"
   },
   "source": [
    "<h1> 1. Business Problem </h1>"
   ]
  },
  {
   "cell_type": "markdown",
   "id": "24826f74",
   "metadata": {
    "id": "LRzmxjKxs5Vw"
   },
   "source": [
    "<h2> 1.1 Description </h2>"
   ]
  },
  {
   "cell_type": "markdown",
   "id": "61ef5163",
   "metadata": {
    "id": "1nlaIYe9s5Vx"
   },
   "source": [
    "<p>Quora is a place to gain and share knowledge—about anything. It’s a platform to ask questions and connect with people who contribute unique insights and quality answers. This empowers people to learn from each other and to better understand the world.</p>\n",
    "<p>\n",
    "Over 100 million people visit Quora every month, so it's no surprise that many people ask similarly worded questions. Multiple questions with the same intent can cause seekers to spend more time finding the best answer to their question, and make writers feel they need to answer multiple versions of the same question. Quora values canonical questions because they provide a better experience to active seekers and writers, and offer more value to both of these groups in the long term.\n",
    "</p>\n",
    "<br>\n",
    "> Credits: Kaggle \n"
   ]
  },
  {
   "cell_type": "markdown",
   "id": "3f967ded",
   "metadata": {
    "id": "wdWP5SdFs5Vy"
   },
   "source": [
    "__ Problem Statement __\n",
    "- Identify which questions asked on Quora are duplicates of questions that have already been asked. \n",
    "- This could be useful to instantly provide answers to questions that have already been answered. \n",
    "- We are tasked with predicting whether a pair of questions are duplicates or not. "
   ]
  },
  {
   "cell_type": "markdown",
   "id": "e8f2e242",
   "metadata": {
    "id": "34hYn911s5V0"
   },
   "source": [
    "<h2> 1.2 Sources/Useful Links</h2>"
   ]
  },
  {
   "cell_type": "markdown",
   "id": "8e114ef1",
   "metadata": {
    "id": "7YIjqVPgs5V4"
   },
   "source": [
    "- Source : https://www.kaggle.com/c/quora-question-pairs\n",
    "<br><br>____ Useful Links ____\n",
    "- Discussions : https://www.kaggle.com/anokas/data-analysis-xgboost-starter-0-35460-lb/comments\n",
    "- Kaggle Winning Solution and other approaches: https://www.dropbox.com/sh/93968nfnrzh8bp5/AACZdtsApc1QSTQc7X0H3QZ5a?dl=0\n",
    "- Blog 1 : https://engineering.quora.com/Semantic-Question-Matching-with-Deep-Learning\n",
    "- Blog 2 : https://towardsdatascience.com/identifying-duplicate-questions-on-quora-top-12-on-kaggle-4c1cf93f1c30"
   ]
  },
  {
   "cell_type": "markdown",
   "id": "3494cdb5",
   "metadata": {
    "id": "jlNRUR4Ws5V5"
   },
   "source": [
    "<h2>1.3 Real world/Business Objectives and Constraints </h2>"
   ]
  },
  {
   "cell_type": "markdown",
   "id": "9fe98f2a",
   "metadata": {
    "id": "Hv6fd7txs5V7"
   },
   "source": [
    "1. The cost of a mis-classification can be very high.\n",
    "2. You would want a probability of a pair of questions to be duplicates so that you can choose any threshold of choice.\n",
    "3. No strict latency concerns.\n",
    "4. Interpretability is partially important."
   ]
  },
  {
   "cell_type": "markdown",
   "id": "8e4d7661",
   "metadata": {
    "id": "VIam5Aaks5V9"
   },
   "source": [
    "<h1>2. Machine Learning Probelm </h1>"
   ]
  },
  {
   "cell_type": "markdown",
   "id": "ba6850af",
   "metadata": {
    "id": "jnty9Bhls5V-"
   },
   "source": [
    "<h2> 2.1 Data </h2>"
   ]
  },
  {
   "cell_type": "markdown",
   "id": "05a980e0",
   "metadata": {
    "id": "rty1PZv3s5V_"
   },
   "source": [
    "<h3> 2.1.1 Data Overview </h3>"
   ]
  },
  {
   "cell_type": "markdown",
   "id": "3648371e",
   "metadata": {
    "id": "-gu8pAt3s5WB"
   },
   "source": [
    "<p> \n",
    "- Data will be in a file Train.csv <br>\n",
    "- Train.csv contains 5 columns : qid1, qid2, question1, question2, is_duplicate <br>\n",
    "- Size of Train.csv - 60MB <br>\n",
    "- Number of rows in Train.csv = 404,290\n",
    "</p>"
   ]
  },
  {
   "cell_type": "markdown",
   "id": "57784fb0",
   "metadata": {
    "id": "v9grbSNds5WC"
   },
   "source": [
    "<h3> 2.1.2 Example Data point </h3>"
   ]
  },
  {
   "cell_type": "markdown",
   "id": "f69463c9",
   "metadata": {
    "id": "9WEQ-lSxs5WE"
   },
   "source": [
    "<pre>\n",
    "\"id\",\"qid1\",\"qid2\",\"question1\",\"question2\",\"is_duplicate\"\n",
    "\"0\",\"1\",\"2\",\"What is the step by step guide to invest in share market in india?\",\"What is the step by step guide to invest in share market?\",\"0\"\n",
    "\"1\",\"3\",\"4\",\"What is the story of Kohinoor (Koh-i-Noor) Diamond?\",\"What would happen if the Indian government stole the Kohinoor (Koh-i-Noor) diamond back?\",\"0\"\n",
    "\"7\",\"15\",\"16\",\"How can I be a good geologist?\",\"What should I do to be a great geologist?\",\"1\"\n",
    "\"11\",\"23\",\"24\",\"How do I read and find my YouTube comments?\",\"How can I see all my Youtube comments?\",\"1\"\n",
    "</pre>"
   ]
  },
  {
   "cell_type": "markdown",
   "id": "1a01fcc8",
   "metadata": {
    "id": "9qPVfeEjs5WF"
   },
   "source": [
    "<h2> 2.2 Mapping the real world problem to an ML problem </h2>"
   ]
  },
  {
   "cell_type": "markdown",
   "id": "313df745",
   "metadata": {
    "id": "JfBn0LYPs5WI"
   },
   "source": [
    "<h3> 2.2.1 Type of Machine Leaning Problem </h3>"
   ]
  },
  {
   "cell_type": "markdown",
   "id": "300917c7",
   "metadata": {
    "id": "QEqiUD_Ps5WJ"
   },
   "source": [
    "<p> It is a binary classification problem, for a given pair of questions we need to predict if they are duplicate or not. </p>"
   ]
  },
  {
   "cell_type": "markdown",
   "id": "7aff9f96",
   "metadata": {
    "id": "keZOL1las5WL"
   },
   "source": [
    "<h3> 2.2.2 Performance Metric </h3>"
   ]
  },
  {
   "cell_type": "markdown",
   "id": "18846fd8",
   "metadata": {
    "id": "YHktaBrMs5WN"
   },
   "source": [
    "Source: https://www.kaggle.com/c/quora-question-pairs#evaluation\n",
    "\n",
    "Metric(s): \n",
    "* log-loss : https://www.kaggle.com/wiki/LogarithmicLoss\n",
    "* Binary Confusion Matrix"
   ]
  },
  {
   "cell_type": "markdown",
   "id": "ef1d150e",
   "metadata": {},
   "source": [
    "## 3. Exploratory Data Analysis"
   ]
  },
  {
   "cell_type": "code",
   "execution_count": 1,
   "id": "c4752cab",
   "metadata": {},
   "outputs": [],
   "source": [
    "import pandas as pd\n",
    "import numpy as np\n",
    "import matplotlib.pyplot as plt\n",
    "import seaborn as sns\n",
    "%matplotlib inline\n",
    "from sklearn.model_selection import train_test_split\n",
    "import plotly.graph_objs as go\n",
    "import plotly.tools as tls\n",
    "import warnings\n",
    "warnings.filterwarnings(\"ignore\")\n",
    "\n",
    "import re\n",
    "from nltk.corpus import stopwords\n",
    "import distance\n",
    "from nltk.stem import PorterStemmer\n",
    "from bs4 import BeautifulSoup\n",
    "import re\n",
    "from nltk.corpus import stopwords\n",
    "# This package is used for finding longest common subsequence between two strings\n",
    "# you can write your own dp code for this\n",
    "import distance\n",
    "from nltk.stem import PorterStemmer\n",
    "from bs4 import BeautifulSoup\n",
    "from fuzzywuzzy import fuzz\n",
    "from sklearn.manifold import TSNE\n",
    "# Import the Required lib packages for WORD-Cloud generation\n",
    "# https://stackoverflow.com/questions/45625434/how-to-install-wordcloud-in-python3-6\n",
    "from wordcloud import WordCloud, STOPWORDS\n",
    "from tqdm import tqdm"
   ]
  },
  {
   "cell_type": "markdown",
   "id": "d55bf764",
   "metadata": {},
   "source": [
    "### 3.1 Loading dataset and basic stats"
   ]
  },
  {
   "cell_type": "code",
   "execution_count": 2,
   "id": "b6bb60d4",
   "metadata": {},
   "outputs": [
    {
     "data": {
      "text/html": [
       "<div>\n",
       "<style scoped>\n",
       "    .dataframe tbody tr th:only-of-type {\n",
       "        vertical-align: middle;\n",
       "    }\n",
       "\n",
       "    .dataframe tbody tr th {\n",
       "        vertical-align: top;\n",
       "    }\n",
       "\n",
       "    .dataframe thead th {\n",
       "        text-align: right;\n",
       "    }\n",
       "</style>\n",
       "<table border=\"1\" class=\"dataframe\">\n",
       "  <thead>\n",
       "    <tr style=\"text-align: right;\">\n",
       "      <th></th>\n",
       "      <th>id</th>\n",
       "      <th>qid1</th>\n",
       "      <th>qid2</th>\n",
       "      <th>question1</th>\n",
       "      <th>question2</th>\n",
       "      <th>is_duplicate</th>\n",
       "    </tr>\n",
       "  </thead>\n",
       "  <tbody>\n",
       "    <tr>\n",
       "      <th>0</th>\n",
       "      <td>0</td>\n",
       "      <td>1</td>\n",
       "      <td>2</td>\n",
       "      <td>What is the step by step guide to invest in sh...</td>\n",
       "      <td>What is the step by step guide to invest in sh...</td>\n",
       "      <td>0</td>\n",
       "    </tr>\n",
       "    <tr>\n",
       "      <th>1</th>\n",
       "      <td>1</td>\n",
       "      <td>3</td>\n",
       "      <td>4</td>\n",
       "      <td>What is the story of Kohinoor (Koh-i-Noor) Dia...</td>\n",
       "      <td>What would happen if the Indian government sto...</td>\n",
       "      <td>0</td>\n",
       "    </tr>\n",
       "    <tr>\n",
       "      <th>2</th>\n",
       "      <td>2</td>\n",
       "      <td>5</td>\n",
       "      <td>6</td>\n",
       "      <td>How can I increase the speed of my internet co...</td>\n",
       "      <td>How can Internet speed be increased by hacking...</td>\n",
       "      <td>0</td>\n",
       "    </tr>\n",
       "    <tr>\n",
       "      <th>3</th>\n",
       "      <td>3</td>\n",
       "      <td>7</td>\n",
       "      <td>8</td>\n",
       "      <td>Why am I mentally very lonely? How can I solve...</td>\n",
       "      <td>Find the remainder when [math]23^{24}[/math] i...</td>\n",
       "      <td>0</td>\n",
       "    </tr>\n",
       "    <tr>\n",
       "      <th>4</th>\n",
       "      <td>4</td>\n",
       "      <td>9</td>\n",
       "      <td>10</td>\n",
       "      <td>Which one dissolve in water quikly sugar, salt...</td>\n",
       "      <td>Which fish would survive in salt water?</td>\n",
       "      <td>0</td>\n",
       "    </tr>\n",
       "  </tbody>\n",
       "</table>\n",
       "</div>"
      ],
      "text/plain": [
       "   id  qid1  qid2                                          question1  \\\n",
       "0   0     1     2  What is the step by step guide to invest in sh...   \n",
       "1   1     3     4  What is the story of Kohinoor (Koh-i-Noor) Dia...   \n",
       "2   2     5     6  How can I increase the speed of my internet co...   \n",
       "3   3     7     8  Why am I mentally very lonely? How can I solve...   \n",
       "4   4     9    10  Which one dissolve in water quikly sugar, salt...   \n",
       "\n",
       "                                           question2  is_duplicate  \n",
       "0  What is the step by step guide to invest in sh...             0  \n",
       "1  What would happen if the Indian government sto...             0  \n",
       "2  How can Internet speed be increased by hacking...             0  \n",
       "3  Find the remainder when [math]23^{24}[/math] i...             0  \n",
       "4            Which fish would survive in salt water?             0  "
      ]
     },
     "execution_count": 2,
     "metadata": {},
     "output_type": "execute_result"
    }
   ],
   "source": [
    "df = pd.read_csv(\"train.csv\")\n",
    "df.head()"
   ]
  },
  {
   "cell_type": "markdown",
   "id": "d3846f36",
   "metadata": {},
   "source": [
    "We are given a minimal number of data fields here, consisting of:\n",
    "\n",
    "* id: Looks like a simple rowID\n",
    "* qid{1, 2}: The unique ID of each question in the pair\n",
    "* question{1, 2}: The actual textual contents of the questions.\n",
    "* is_duplicate: The label that we are trying to predict - whether the two questions are duplicates of each other."
   ]
  },
  {
   "cell_type": "code",
   "execution_count": 3,
   "id": "df4ca6e0",
   "metadata": {},
   "outputs": [
    {
     "name": "stdout",
     "output_type": "stream",
     "text": [
      "Number of data points: 404290\n"
     ]
    }
   ],
   "source": [
    "print(\"Number of data points:\",df.shape[0])"
   ]
  },
  {
   "cell_type": "code",
   "execution_count": 4,
   "id": "75fcc754",
   "metadata": {},
   "outputs": [
    {
     "name": "stdout",
     "output_type": "stream",
     "text": [
      "<class 'pandas.core.frame.DataFrame'>\n",
      "RangeIndex: 404290 entries, 0 to 404289\n",
      "Data columns (total 6 columns):\n",
      " #   Column        Non-Null Count   Dtype \n",
      "---  ------        --------------   ----- \n",
      " 0   id            404290 non-null  int64 \n",
      " 1   qid1          404290 non-null  int64 \n",
      " 2   qid2          404290 non-null  int64 \n",
      " 3   question1     404289 non-null  object\n",
      " 4   question2     404288 non-null  object\n",
      " 5   is_duplicate  404290 non-null  int64 \n",
      "dtypes: int64(4), object(2)\n",
      "memory usage: 18.5+ MB\n"
     ]
    }
   ],
   "source": [
    "df.info()"
   ]
  },
  {
   "cell_type": "markdown",
   "id": "769792ce",
   "metadata": {},
   "source": [
    "* Looks like there are 2 null values in question2 column and 1 in question1, let's check and remove them."
   ]
  },
  {
   "cell_type": "markdown",
   "id": "4cbce699",
   "metadata": {},
   "source": [
    "### 3.2 Removing Null Values"
   ]
  },
  {
   "cell_type": "code",
   "execution_count": 5,
   "id": "8659a493",
   "metadata": {},
   "outputs": [
    {
     "name": "stdout",
     "output_type": "stream",
     "text": [
      "Before removing null values:  404290\n",
      "After removing null values:  404287\n"
     ]
    }
   ],
   "source": [
    "print(\"Before removing null values: \", df.shape[0])\n",
    "df.dropna( inplace = True)\n",
    "print(\"After removing null values: \", df.shape[0])"
   ]
  },
  {
   "cell_type": "markdown",
   "id": "d05c389c",
   "metadata": {},
   "source": [
    "* All 3 null value rows has been removed."
   ]
  },
  {
   "cell_type": "markdown",
   "id": "ec140a91",
   "metadata": {},
   "source": [
    "### 3.2 Class Imbalance"
   ]
  },
  {
   "cell_type": "code",
   "execution_count": 6,
   "id": "2576e8fc",
   "metadata": {
    "scrolled": true
   },
   "outputs": [
    {
     "data": {
      "text/plain": [
       "<AxesSubplot:xlabel='is_duplicate', ylabel='count'>"
      ]
     },
     "execution_count": 6,
     "metadata": {},
     "output_type": "execute_result"
    },
    {
     "data": {
      "image/png": "[encoded data removed]",
      "text/plain": [
       "<Figure size 720x432 with 1 Axes>"
      ]
     },
     "metadata": {
      "needs_background": "light"
     },
     "output_type": "display_data"
    }
   ],
   "source": [
    "plt.figure(figsize=(10, 6))\n",
    "sns.countplot(x ='is_duplicate', data = df)"
   ]
  },
  {
   "cell_type": "code",
   "execution_count": 7,
   "id": "50575cfd",
   "metadata": {},
   "outputs": [
    {
     "name": "stdout",
     "output_type": "stream",
     "text": [
      "~> Question pairs are not Similar (is_duplicate = 0):\n",
      "   63.08%\n",
      "\n",
      "~> Question pairs are Similar (is_duplicate = 1):\n",
      "   36.92%\n"
     ]
    }
   ],
   "source": [
    "print('~> Question pairs are not Similar (is_duplicate = 0):\\n   {}%'.format(100 - round(df['is_duplicate'].mean()*100, 2)))\n",
    "print('\\n~> Question pairs are Similar (is_duplicate = 1):\\n   {}%'.format(round(df['is_duplicate'].mean()*100, 2)))"
   ]
  },
  {
   "cell_type": "markdown",
   "id": "a80b3a1a",
   "metadata": {},
   "source": [
    "* We have 36.92% positive class data, and 63.08% negative class data, hence our dataset is imbalance."
   ]
  },
  {
   "cell_type": "markdown",
   "id": "2f4896b3",
   "metadata": {},
   "source": [
    "### 3.3 Repeated questions"
   ]
  },
  {
   "cell_type": "markdown",
   "id": "5a520f6d",
   "metadata": {},
   "source": [
    "### 3.3.1 Percentage of repeated questions"
   ]
  },
  {
   "cell_type": "code",
   "execution_count": 8,
   "id": "3057c927",
   "metadata": {},
   "outputs": [
    {
     "name": "stdout",
     "output_type": "stream",
     "text": [
      "Total number of unique questions:  537929\n",
      "Total number of repeated questions: 111778 (20.78%)\n",
      "\n"
     ]
    },
    {
     "data": {
      "image/png": "[encoded data removed]",
      "text/plain": [
       "<Figure size 720x432 with 1 Axes>"
      ]
     },
     "metadata": {
      "needs_background": "light"
     },
     "output_type": "display_data"
    }
   ],
   "source": [
    "# Number of Repeated Questions\n",
    "qids = pd.Series(df['qid1'].tolist()+df['qid2'].tolist())\n",
    "unique_qs = len(np.unique(qids))\n",
    "qs_multiple_occurances = np.sum(qids.value_counts() > 1)\n",
    "\n",
    "print(\"Total number of unique questions: \", unique_qs)\n",
    "print(\"Total number of repeated questions: {} ({}%)\\n\".format(qs_multiple_occurances, round(qs_multiple_occurances/unique_qs*100,2)))\n",
    "\n",
    "x = [\"unique_questions\" , \"Repeated Questions\"]\n",
    "y =  [unique_qs , qs_multiple_occurances]\n",
    "\n",
    "plt.figure(figsize=(10, 6))\n",
    "plt.title (\"Plot representing unique and repeated questions  \")\n",
    "sns.barplot(x,y)\n",
    "plt.show()"
   ]
  },
  {
   "cell_type": "markdown",
   "id": "d5e94dfc",
   "metadata": {},
   "source": [
    "### 3.3.2 Number of occurances of each question"
   ]
  },
  {
   "cell_type": "code",
   "execution_count": 9,
   "id": "ddedb325",
   "metadata": {
    "scrolled": false
   },
   "outputs": [
    {
     "name": "stdout",
     "output_type": "stream",
     "text": [
      "Maximum number of times a single question is repeated: 157\n",
      "\n"
     ]
    },
    {
     "data": {
      "image/png": "[encoded data removed]",
      "text/plain": [
       "<Figure size 1008x432 with 1 Axes>"
      ]
     },
     "metadata": {
      "needs_background": "light"
     },
     "output_type": "display_data"
    }
   ],
   "source": [
    "plt.figure(figsize=(14, 6))\n",
    "plt.hist(qids.value_counts(), bins=160)\n",
    "plt.yscale('log', nonposy='clip')\n",
    "plt.title('Log-Histogram of question appearance counts')\n",
    "plt.xlabel('Number of occurences of question')\n",
    "plt.ylabel('Number of questions')\n",
    "\n",
    "print ('Maximum number of times a single question is repeated: {}\\n'.format(max(qids.value_counts()))) "
   ]
  },
  {
   "cell_type": "markdown",
   "id": "a3d96986",
   "metadata": {
    "id": "G-CwGaMms5XS"
   },
   "source": [
    "### 3.3.2 Checking for Duplicates"
   ]
  },
  {
   "cell_type": "code",
   "execution_count": 10,
   "id": "666dd0fc",
   "metadata": {
    "id": "YCiDBHm5s5XT",
    "outputId": "d8011926-4086-4c9a-9fcf-59663a584ec4"
   },
   "outputs": [
    {
     "name": "stdout",
     "output_type": "stream",
     "text": [
      "Number of duplicate questions: 0\n"
     ]
    }
   ],
   "source": [
    "#checking whether there are any repeated pair of questions\n",
    "\n",
    "pair_duplicates = df[['qid1','qid2','is_duplicate']].groupby(['qid1','qid2']).count()\n",
    "print (\"Number of duplicate questions:\", df.shape[0] - (pair_duplicates).shape[0])"
   ]
  },
  {
   "cell_type": "markdown",
   "id": "f913443c",
   "metadata": {},
   "source": [
    "### 3.4 EDA Observations"
   ]
  },
  {
   "cell_type": "markdown",
   "id": "aa227927",
   "metadata": {},
   "source": [
    "* 17.2 % of the questions are repeated more than once.\n",
    "* Maximum number of times a question has been repeated: 157.\n",
    "* Here, we will not remove the repeated questions as it adds value to the entire data.\n",
    "* For example - on question has been repeated 157 times, which means keywords in that question shows that there is possibility of questions with those keywords being asked again and again, they should be given more weightage.\n",
    "* No duplicate(repeated pair of questions) data is present in the dataset."
   ]
  },
  {
   "cell_type": "markdown",
   "id": "34240c74",
   "metadata": {},
   "source": [
    "## 4. Splitting data"
   ]
  },
  {
   "cell_type": "code",
   "execution_count": 11,
   "id": "6e3b1c84",
   "metadata": {},
   "outputs": [],
   "source": [
    "y_true = df['is_duplicate'].values\n",
    "df.drop('is_duplicate', axis=1, inplace=True)\n",
    "df.reset_index(inplace=True)\n",
    "\n",
    "# split the data into test and train by maintaining same distribution of output varaible 'y_true' [stratify=y_true]\n",
    "X_train, X_test, y_train, y_test = train_test_split(df, y_true, stratify=y_true, test_size=0.3)\n",
    "# split the train data into train and cross validation by maintaining same distribution of output varaible 'y_train' [stratify=y_train]\n",
    "X_train, X_cv, y_train, y_cv = train_test_split(X_train, y_train, stratify=y_train, test_size=0.3)"
   ]
  },
  {
   "cell_type": "code",
   "execution_count": 12,
   "id": "945a7a79",
   "metadata": {
    "scrolled": true
   },
   "outputs": [
    {
     "data": {
      "text/html": [
       "<div>\n",
       "<style scoped>\n",
       "    .dataframe tbody tr th:only-of-type {\n",
       "        vertical-align: middle;\n",
       "    }\n",
       "\n",
       "    .dataframe tbody tr th {\n",
       "        vertical-align: top;\n",
       "    }\n",
       "\n",
       "    .dataframe thead th {\n",
       "        text-align: right;\n",
       "    }\n",
       "</style>\n",
       "<table border=\"1\" class=\"dataframe\">\n",
       "  <thead>\n",
       "    <tr style=\"text-align: right;\">\n",
       "      <th></th>\n",
       "      <th>index</th>\n",
       "      <th>id</th>\n",
       "      <th>qid1</th>\n",
       "      <th>qid2</th>\n",
       "      <th>question1</th>\n",
       "      <th>question2</th>\n",
       "    </tr>\n",
       "  </thead>\n",
       "  <tbody>\n",
       "    <tr>\n",
       "      <th>333093</th>\n",
       "      <td>333095</td>\n",
       "      <td>333095</td>\n",
       "      <td>7495</td>\n",
       "      <td>128155</td>\n",
       "      <td>Which are some of the best romantic movies?</td>\n",
       "      <td>What are the best romantic movies?</td>\n",
       "    </tr>\n",
       "    <tr>\n",
       "      <th>148091</th>\n",
       "      <td>148092</td>\n",
       "      <td>148092</td>\n",
       "      <td>28196</td>\n",
       "      <td>84951</td>\n",
       "      <td>How do I stop my Pomeranian/Shih Tzu mix from ...</td>\n",
       "      <td>How do I stop my Australian Shepherd/Border Co...</td>\n",
       "    </tr>\n",
       "    <tr>\n",
       "      <th>198063</th>\n",
       "      <td>198064</td>\n",
       "      <td>198064</td>\n",
       "      <td>93240</td>\n",
       "      <td>123036</td>\n",
       "      <td>Is WWE Really fake?</td>\n",
       "      <td>Is fighting in wwe real or fake?</td>\n",
       "    </tr>\n",
       "    <tr>\n",
       "      <th>365860</th>\n",
       "      <td>365863</td>\n",
       "      <td>365863</td>\n",
       "      <td>47461</td>\n",
       "      <td>153209</td>\n",
       "      <td>What hotel in Kolkata would be safe for unmarr...</td>\n",
       "      <td>What hotel in Jhansi would be safe for unmarri...</td>\n",
       "    </tr>\n",
       "    <tr>\n",
       "      <th>166495</th>\n",
       "      <td>166496</td>\n",
       "      <td>166496</td>\n",
       "      <td>35129</td>\n",
       "      <td>258335</td>\n",
       "      <td>How do I stop wasting my time? Could that be p...</td>\n",
       "      <td>How can I make better use of my time?</td>\n",
       "    </tr>\n",
       "  </tbody>\n",
       "</table>\n",
       "</div>"
      ],
      "text/plain": [
       "         index      id   qid1    qid2  \\\n",
       "333093  333095  333095   7495  128155   \n",
       "148091  148092  148092  28196   84951   \n",
       "198063  198064  198064  93240  123036   \n",
       "365860  365863  365863  47461  153209   \n",
       "166495  166496  166496  35129  258335   \n",
       "\n",
       "                                                question1  \\\n",
       "333093        Which are some of the best romantic movies?   \n",
       "148091  How do I stop my Pomeranian/Shih Tzu mix from ...   \n",
       "198063                                Is WWE Really fake?   \n",
       "365860  What hotel in Kolkata would be safe for unmarr...   \n",
       "166495  How do I stop wasting my time? Could that be p...   \n",
       "\n",
       "                                                question2  \n",
       "333093                 What are the best romantic movies?  \n",
       "148091  How do I stop my Australian Shepherd/Border Co...  \n",
       "198063                   Is fighting in wwe real or fake?  \n",
       "365860  What hotel in Jhansi would be safe for unmarri...  \n",
       "166495              How can I make better use of my time?  "
      ]
     },
     "execution_count": 12,
     "metadata": {},
     "output_type": "execute_result"
    }
   ],
   "source": [
    "X_train.head()"
   ]
  },
  {
   "cell_type": "code",
   "execution_count": null,
   "id": "284eef78",
   "metadata": {},
   "outputs": [],
   "source": []
  },
  {
   "cell_type": "markdown",
   "id": "e5e0331a",
   "metadata": {},
   "source": [
    "## 5 Basic Feature Extraction"
   ]
  },
  {
   "cell_type": "markdown",
   "id": "8fa64aa2",
   "metadata": {},
   "source": [
    "### 5.1 Extracting basic features\n",
    "\n",
    "Constructing 13 features mentioned below:\n",
    "* **len_q1** : Length of question 1\n",
    "* **len_q2** : Length of question 2\n",
    "* **freq_q1** : Frequency of question 1\n",
    "* **freq_q2** : Frequency of question 2\n",
    "* **num_w_q1** : Number of words in question 1\n",
    "* **num_w_q2** : Number of words in question 2\n",
    "* **word_common** : Number of common words in question 1 & 2\n",
    "* **word_total** : Sum of total number of words in question 1 & 2\n",
    "* **word_share** : (num_common_w/sum_total_w)\n",
    "* **freq_sum & freq_diff** \n",
    "* **len_sum & len_diff**"
   ]
  },
  {
   "cell_type": "code",
   "execution_count": 13,
   "id": "9fd1e09c",
   "metadata": {
    "scrolled": false
   },
   "outputs": [
    {
     "data": {
      "text/html": [
       "<div>\n",
       "<style scoped>\n",
       "    .dataframe tbody tr th:only-of-type {\n",
       "        vertical-align: middle;\n",
       "    }\n",
       "\n",
       "    .dataframe tbody tr th {\n",
       "        vertical-align: top;\n",
       "    }\n",
       "\n",
       "    .dataframe thead th {\n",
       "        text-align: right;\n",
       "    }\n",
       "</style>\n",
       "<table border=\"1\" class=\"dataframe\">\n",
       "  <thead>\n",
       "    <tr style=\"text-align: right;\">\n",
       "      <th></th>\n",
       "      <th>index</th>\n",
       "      <th>id</th>\n",
       "      <th>qid1</th>\n",
       "      <th>qid2</th>\n",
       "      <th>question1</th>\n",
       "      <th>question2</th>\n",
       "    </tr>\n",
       "  </thead>\n",
       "  <tbody>\n",
       "    <tr>\n",
       "      <th>0</th>\n",
       "      <td>0</td>\n",
       "      <td>0</td>\n",
       "      <td>1</td>\n",
       "      <td>2</td>\n",
       "      <td>What is the step by step guide to invest in sh...</td>\n",
       "      <td>What is the step by step guide to invest in sh...</td>\n",
       "    </tr>\n",
       "    <tr>\n",
       "      <th>1</th>\n",
       "      <td>1</td>\n",
       "      <td>1</td>\n",
       "      <td>3</td>\n",
       "      <td>4</td>\n",
       "      <td>What is the story of Kohinoor (Koh-i-Noor) Dia...</td>\n",
       "      <td>What would happen if the Indian government sto...</td>\n",
       "    </tr>\n",
       "    <tr>\n",
       "      <th>2</th>\n",
       "      <td>2</td>\n",
       "      <td>2</td>\n",
       "      <td>5</td>\n",
       "      <td>6</td>\n",
       "      <td>How can I increase the speed of my internet co...</td>\n",
       "      <td>How can Internet speed be increased by hacking...</td>\n",
       "    </tr>\n",
       "    <tr>\n",
       "      <th>3</th>\n",
       "      <td>3</td>\n",
       "      <td>3</td>\n",
       "      <td>7</td>\n",
       "      <td>8</td>\n",
       "      <td>Why am I mentally very lonely? How can I solve...</td>\n",
       "      <td>Find the remainder when [math]23^{24}[/math] i...</td>\n",
       "    </tr>\n",
       "    <tr>\n",
       "      <th>4</th>\n",
       "      <td>4</td>\n",
       "      <td>4</td>\n",
       "      <td>9</td>\n",
       "      <td>10</td>\n",
       "      <td>Which one dissolve in water quikly sugar, salt...</td>\n",
       "      <td>Which fish would survive in salt water?</td>\n",
       "    </tr>\n",
       "  </tbody>\n",
       "</table>\n",
       "</div>"
      ],
      "text/plain": [
       "   index  id  qid1  qid2                                          question1  \\\n",
       "0      0   0     1     2  What is the step by step guide to invest in sh...   \n",
       "1      1   1     3     4  What is the story of Kohinoor (Koh-i-Noor) Dia...   \n",
       "2      2   2     5     6  How can I increase the speed of my internet co...   \n",
       "3      3   3     7     8  Why am I mentally very lonely? How can I solve...   \n",
       "4      4   4     9    10  Which one dissolve in water quikly sugar, salt...   \n",
       "\n",
       "                                           question2  \n",
       "0  What is the step by step guide to invest in sh...  \n",
       "1  What would happen if the Indian government sto...  \n",
       "2  How can Internet speed be increased by hacking...  \n",
       "3  Find the remainder when [math]23^{24}[/math] i...  \n",
       "4            Which fish would survive in salt water?  "
      ]
     },
     "execution_count": 13,
     "metadata": {},
     "output_type": "execute_result"
    }
   ],
   "source": [
    "df.head()"
   ]
  },
  {
   "cell_type": "code",
   "execution_count": 14,
   "id": "1449b4c1",
   "metadata": {},
   "outputs": [
    {
     "name": "stderr",
     "output_type": "stream",
     "text": [
      "100%|████████████████████████████████████████████████████████████████████████████████████| 3/3 [01:19<00:00, 26.38s/it]\n"
     ]
    }
   ],
   "source": [
    "for dfx in tqdm([X_train, X_test, X_cv]):\n",
    "    # Length Features\n",
    "    dfx['len_q1'] = dfx['question1'].str.len()\n",
    "    dfx['len_q2'] = dfx['question2'].str.len()\n",
    "    dfx['len_sum'] = dfx['len_q1'] + dfx['len_q2']\n",
    "    dfx['len_diff'] = abs(dfx['len_q1'] - dfx['len_q2'])\n",
    "\n",
    "    # Frequency Features\n",
    "    dfx['freq_q1'] = dfx.groupby('question1')['question1'].transform('size')\n",
    "    dfx['freq_q2'] = dfx.groupby('question2')['question2'].transform('size')\n",
    "    dfx['freq_sum'] = dfx['freq_q1'] + dfx['freq_q2']\n",
    "    dfx['freq_diff'] = abs(dfx['freq_q1'] - dfx['freq_q2'])\n",
    "    \n",
    "    # Number of words features\n",
    "    dfx['num_w_q1'] = dfx['question1'].map( lambda x: len(x.split(\" \")))\n",
    "    dfx['num_w_q2'] = dfx['question2'].map( lambda x: len(x.split(\" \")))\n",
    "    \n",
    "    def normalized_word_common(row):\n",
    "        w1 = set(map(lambda word: word.lower().strip(), row['question1'].split(\" \")))\n",
    "        w2 = set(map(lambda word: word.lower().strip(), row['question2'].split(\" \")))    \n",
    "        return len(w1 & w2)\n",
    "    dfx['word_common'] = dfx.apply(normalized_word_common, axis=1)\n",
    "    \n",
    "    def normalized_word_total(row):\n",
    "        w1 = set(map(lambda word: word.lower().strip(), row['question1'].split(\" \")))\n",
    "        w2 = set(map(lambda word: word.lower().strip(), row['question2'].split(\" \")))    \n",
    "        return len(w1) + len(w2)\n",
    "    dfx['word_total'] = df.apply(normalized_word_total, axis=1)\n",
    "    \n",
    "    def normalized_word_share(row):\n",
    "        w1 = set(map(lambda word: word.lower().strip(), row['question1'].split(\" \")))\n",
    "        w2 = set(map(lambda word: word.lower().strip(), row['question2'].split(\" \")))    \n",
    "        return len(w1 & w2)/(len(w1) + len(w2))\n",
    "    dfx['word_share'] = df.apply(normalized_word_share, axis=1)"
   ]
  },
  {
   "cell_type": "code",
   "execution_count": 15,
   "id": "fc797543",
   "metadata": {
    "scrolled": true
   },
   "outputs": [
    {
     "data": {
      "text/html": [
       "<div>\n",
       "<style scoped>\n",
       "    .dataframe tbody tr th:only-of-type {\n",
       "        vertical-align: middle;\n",
       "    }\n",
       "\n",
       "    .dataframe tbody tr th {\n",
       "        vertical-align: top;\n",
       "    }\n",
       "\n",
       "    .dataframe thead th {\n",
       "        text-align: right;\n",
       "    }\n",
       "</style>\n",
       "<table border=\"1\" class=\"dataframe\">\n",
       "  <thead>\n",
       "    <tr style=\"text-align: right;\">\n",
       "      <th></th>\n",
       "      <th>index</th>\n",
       "      <th>id</th>\n",
       "      <th>qid1</th>\n",
       "      <th>qid2</th>\n",
       "      <th>question1</th>\n",
       "      <th>question2</th>\n",
       "      <th>len_q1</th>\n",
       "      <th>len_q2</th>\n",
       "      <th>len_sum</th>\n",
       "      <th>len_diff</th>\n",
       "      <th>freq_q1</th>\n",
       "      <th>freq_q2</th>\n",
       "      <th>freq_sum</th>\n",
       "      <th>freq_diff</th>\n",
       "      <th>num_w_q1</th>\n",
       "      <th>num_w_q2</th>\n",
       "      <th>word_common</th>\n",
       "      <th>word_total</th>\n",
       "      <th>word_share</th>\n",
       "    </tr>\n",
       "  </thead>\n",
       "  <tbody>\n",
       "    <tr>\n",
       "      <th>333093</th>\n",
       "      <td>333095</td>\n",
       "      <td>333095</td>\n",
       "      <td>7495</td>\n",
       "      <td>128155</td>\n",
       "      <td>Which are some of the best romantic movies?</td>\n",
       "      <td>What are the best romantic movies?</td>\n",
       "      <td>43</td>\n",
       "      <td>34</td>\n",
       "      <td>77</td>\n",
       "      <td>9</td>\n",
       "      <td>4</td>\n",
       "      <td>4</td>\n",
       "      <td>8</td>\n",
       "      <td>0</td>\n",
       "      <td>8</td>\n",
       "      <td>6</td>\n",
       "      <td>5</td>\n",
       "      <td>14</td>\n",
       "      <td>0.357143</td>\n",
       "    </tr>\n",
       "    <tr>\n",
       "      <th>148091</th>\n",
       "      <td>148092</td>\n",
       "      <td>148092</td>\n",
       "      <td>28196</td>\n",
       "      <td>84951</td>\n",
       "      <td>How do I stop my Pomeranian/Shih Tzu mix from ...</td>\n",
       "      <td>How do I stop my Australian Shepherd/Border Co...</td>\n",
       "      <td>67</td>\n",
       "      <td>81</td>\n",
       "      <td>148</td>\n",
       "      <td>14</td>\n",
       "      <td>4</td>\n",
       "      <td>7</td>\n",
       "      <td>11</td>\n",
       "      <td>3</td>\n",
       "      <td>12</td>\n",
       "      <td>13</td>\n",
       "      <td>9</td>\n",
       "      <td>23</td>\n",
       "      <td>0.391304</td>\n",
       "    </tr>\n",
       "    <tr>\n",
       "      <th>198063</th>\n",
       "      <td>198064</td>\n",
       "      <td>198064</td>\n",
       "      <td>93240</td>\n",
       "      <td>123036</td>\n",
       "      <td>Is WWE Really fake?</td>\n",
       "      <td>Is fighting in wwe real or fake?</td>\n",
       "      <td>19</td>\n",
       "      <td>32</td>\n",
       "      <td>51</td>\n",
       "      <td>13</td>\n",
       "      <td>5</td>\n",
       "      <td>3</td>\n",
       "      <td>8</td>\n",
       "      <td>2</td>\n",
       "      <td>4</td>\n",
       "      <td>7</td>\n",
       "      <td>3</td>\n",
       "      <td>11</td>\n",
       "      <td>0.272727</td>\n",
       "    </tr>\n",
       "    <tr>\n",
       "      <th>365860</th>\n",
       "      <td>365863</td>\n",
       "      <td>365863</td>\n",
       "      <td>47461</td>\n",
       "      <td>153209</td>\n",
       "      <td>What hotel in Kolkata would be safe for unmarr...</td>\n",
       "      <td>What hotel in Jhansi would be safe for unmarri...</td>\n",
       "      <td>123</td>\n",
       "      <td>122</td>\n",
       "      <td>245</td>\n",
       "      <td>1</td>\n",
       "      <td>3</td>\n",
       "      <td>1</td>\n",
       "      <td>4</td>\n",
       "      <td>2</td>\n",
       "      <td>20</td>\n",
       "      <td>20</td>\n",
       "      <td>18</td>\n",
       "      <td>38</td>\n",
       "      <td>0.473684</td>\n",
       "    </tr>\n",
       "    <tr>\n",
       "      <th>166495</th>\n",
       "      <td>166496</td>\n",
       "      <td>166496</td>\n",
       "      <td>35129</td>\n",
       "      <td>258335</td>\n",
       "      <td>How do I stop wasting my time? Could that be p...</td>\n",
       "      <td>How can I make better use of my time?</td>\n",
       "      <td>54</td>\n",
       "      <td>37</td>\n",
       "      <td>91</td>\n",
       "      <td>17</td>\n",
       "      <td>2</td>\n",
       "      <td>2</td>\n",
       "      <td>4</td>\n",
       "      <td>0</td>\n",
       "      <td>11</td>\n",
       "      <td>9</td>\n",
       "      <td>4</td>\n",
       "      <td>20</td>\n",
       "      <td>0.200000</td>\n",
       "    </tr>\n",
       "  </tbody>\n",
       "</table>\n",
       "</div>"
      ],
      "text/plain": [
       "         index      id   qid1    qid2  \\\n",
       "333093  333095  333095   7495  128155   \n",
       "148091  148092  148092  28196   84951   \n",
       "198063  198064  198064  93240  123036   \n",
       "365860  365863  365863  47461  153209   \n",
       "166495  166496  166496  35129  258335   \n",
       "\n",
       "                                                question1  \\\n",
       "333093        Which are some of the best romantic movies?   \n",
       "148091  How do I stop my Pomeranian/Shih Tzu mix from ...   \n",
       "198063                                Is WWE Really fake?   \n",
       "365860  What hotel in Kolkata would be safe for unmarr...   \n",
       "166495  How do I stop wasting my time? Could that be p...   \n",
       "\n",
       "                                                question2  len_q1  len_q2  \\\n",
       "333093                 What are the best romantic movies?      43      34   \n",
       "148091  How do I stop my Australian Shepherd/Border Co...      67      81   \n",
       "198063                   Is fighting in wwe real or fake?      19      32   \n",
       "365860  What hotel in Jhansi would be safe for unmarri...     123     122   \n",
       "166495              How can I make better use of my time?      54      37   \n",
       "\n",
       "        len_sum  len_diff  freq_q1  freq_q2  freq_sum  freq_diff  num_w_q1  \\\n",
       "333093       77         9        4        4         8          0         8   \n",
       "148091      148        14        4        7        11          3        12   \n",
       "198063       51        13        5        3         8          2         4   \n",
       "365860      245         1        3        1         4          2        20   \n",
       "166495       91        17        2        2         4          0        11   \n",
       "\n",
       "        num_w_q2  word_common  word_total  word_share  \n",
       "333093         6            5          14    0.357143  \n",
       "148091        13            9          23    0.391304  \n",
       "198063         7            3          11    0.272727  \n",
       "365860        20           18          38    0.473684  \n",
       "166495         9            4          20    0.200000  "
      ]
     },
     "execution_count": 15,
     "metadata": {},
     "output_type": "execute_result"
    }
   ],
   "source": [
    "X_train.head()"
   ]
  },
  {
   "cell_type": "markdown",
   "id": "fea18c23",
   "metadata": {},
   "source": [
    "### 5.2 Analysis of extracted features"
   ]
  },
  {
   "cell_type": "code",
   "execution_count": 16,
   "id": "2966b42b",
   "metadata": {},
   "outputs": [
    {
     "name": "stdout",
     "output_type": "stream",
     "text": [
      "Minimum length of the questions in question1 :  1\n",
      "Minimum length of the questions in question2 :  1\n",
      "Number of Questions with minimum length [question1] : 15\n",
      "Number of Questions with minimum length [question2] : 1\n"
     ]
    }
   ],
   "source": [
    "print (\"Minimum length of the questions in question1 : \" , min(X_train['len_q1']))\n",
    "\n",
    "print (\"Minimum length of the questions in question2 : \" , min(X_train['len_q2']))\n",
    "\n",
    "print (\"Number of Questions with minimum length [question1] :\", X_train[X_train['len_q1']== min(X_train['len_q1'])].shape[0])\n",
    "print (\"Number of Questions with minimum length [question2] :\", X_train[X_train['len_q2']== min(X_train['len_q2'])].shape[0])"
   ]
  },
  {
   "cell_type": "code",
   "execution_count": 17,
   "id": "4b781d02",
   "metadata": {},
   "outputs": [
    {
     "data": {
      "text/plain": [
       "198100"
      ]
     },
     "execution_count": 17,
     "metadata": {},
     "output_type": "execute_result"
    }
   ],
   "source": [
    "len(y_train)"
   ]
  },
  {
   "cell_type": "markdown",
   "id": "4d01d0f4",
   "metadata": {},
   "source": [
    "* Here we can see that few questions are 1 word in our training dataset."
   ]
  },
  {
   "cell_type": "markdown",
   "id": "1df25295",
   "metadata": {},
   "source": [
    "**Feature: word_common**"
   ]
  },
  {
   "cell_type": "code",
   "execution_count": 18,
   "id": "24b7a65d",
   "metadata": {},
   "outputs": [],
   "source": [
    "x, y = [], []\n",
    "for i in range(len(X_train['word_common'])):\n",
    "    if y_train[i]==1:\n",
    "        x.append(X_train['word_common'].iloc[i])\n",
    "    else:\n",
    "        y.append(X_train['word_common'].iloc[i])"
   ]
  },
  {
   "cell_type": "code",
   "execution_count": 23,
   "id": "27c77eae",
   "metadata": {
    "scrolled": true
   },
   "outputs": [
    {
     "data": {
      "image/png": "[encoded data removed]",
      "text/plain": [
       "<Figure size 864x576 with 2 Axes>"
      ]
     },
     "metadata": {
      "needs_background": "light"
     },
     "output_type": "display_data"
    }
   ],
   "source": [
    "plt.figure(figsize=(12, 8))\n",
    "\n",
    "plt.subplot(1,2,1)\n",
    "sns.violinplot(x = y_train, y = 'word_common', data = X_train)\n",
    "\n",
    "plt.subplot(1,2,2)\n",
    "sns.distplot(x , label = \"1\", color = 'red')\n",
    "sns.distplot(y , label = \"0\" , color = 'blue' )\n",
    "plt.show()"
   ]
  },
  {
   "cell_type": "markdown",
   "id": "016a0b44",
   "metadata": {},
   "source": [
    "* In voilen plot we can see than when common words are less, there's a high probability that questions are dissimilar.\n",
    "* PDF plot is highly overlapping, we can't conclude anything significant."
   ]
  },
  {
   "cell_type": "markdown",
   "id": "5e1a58d3",
   "metadata": {},
   "source": [
    "**Feature: word_share**"
   ]
  },
  {
   "cell_type": "code",
   "execution_count": 20,
   "id": "e702d3ce",
   "metadata": {},
   "outputs": [],
   "source": [
    "x, y = [], []\n",
    "for i in range(len(X_train['word_share'])):\n",
    "    if y_train[i]==1:\n",
    "        x.append(X_train['word_share'].iloc[i])\n",
    "    else:\n",
    "        y.append(X_train['word_share'].iloc[i])"
   ]
  },
  {
   "cell_type": "code",
   "execution_count": 21,
   "id": "7f75add4",
   "metadata": {},
   "outputs": [
    {
     "data": {
      "image/png": "[encoded data removed]",
      "text/plain": [
       "<Figure size 864x576 with 2 Axes>"
      ]
     },
     "metadata": {
      "needs_background": "light"
     },
     "output_type": "display_data"
    }
   ],
   "source": [
    "plt.figure(figsize=(12, 8))\n",
    "\n",
    "plt.subplot(1,2,1)\n",
    "sns.violinplot(x = y_train, y = 'word_share', data = X_train)\n",
    "\n",
    "plt.subplot(1,2,2)\n",
    "sns.distplot(x , label = \"1\", color = 'red')\n",
    "sns.distplot(y, label = \"0\" , color = 'blue' )\n",
    "plt.show()"
   ]
  },
  {
   "cell_type": "markdown",
   "id": "1b86d0d7",
   "metadata": {},
   "source": [
    "* As we can see, if the \"word share\" is low then the probability of questions being dissimilar is more, while if the \"word share\" is more chances of questions being similar is high."
   ]
  },
  {
   "cell_type": "markdown",
   "id": "c4daec45",
   "metadata": {},
   "source": [
    "## 6. Preprocessing of text\n",
    "\n",
    "Preprocessing:\n",
    "* Removing html tags\n",
    "* Removing Punctuations\n",
    "* Performing stemming\n",
    "* Removing Stopwords\n",
    "* Expanding contractions etc."
   ]
  },
  {
   "cell_type": "code",
   "execution_count": null,
   "id": "19529883",
   "metadata": {},
   "outputs": [],
   "source": [
    "stop_words = stopwords.words(\"english\")\n",
    "\n",
    "def preprocess_data(x):\n",
    "    # Converting to lower case\n",
    "    x = str().lower()\n",
    "    \n",
    "    \n",
    "    \n",
    "    x = x.replace(\",000,000\", \"m\").replace(\",000\", \"k\").replace(\"′\", \"'\").replace(\"’\", \"'\")\\\n",
    "                .replace(\"won't\", \"will not\").replace(\"cannot\", \"can not\").replace(\"can't\", \"can not\")\\\n",
    "                .replace(\"n't\", \" not\").replace(\"what's\", \"what is\").replace(\"it's\", \"it is\")\\\n",
    "                .replace(\"'ve\", \" have\").replace(\"i'm\", \"i am\").replace(\"'re\", \" are\")\\\n",
    "                .replace(\"he's\", \"he is\").replace(\"she's\", \"she is\").replace(\"'s\", \" own\")\\\n",
    "                .replace(\"%\", \" percent \").replace(\"₹\", \" rupee \").replace(\"$\", \" dollar \")\\\n",
    "                .replace(\"€\", \" euro \").replace(\"'ll\", \" will\")\n",
    "    x = re.sub(r\"([0-9]+)000000\", r\"\\1m\", x)\n",
    "    x = re.sub(r\"([0-9]+)000\", r\"\\1k\", x)"
   ]
  },
  {
   "cell_type": "code",
   "execution_count": null,
   "id": "7ed5b1bd",
   "metadata": {},
   "outputs": [],
   "source": []
  },
  {
   "cell_type": "code",
   "execution_count": null,
   "id": "664836fa",
   "metadata": {},
   "outputs": [],
   "source": []
  },
  {
   "cell_type": "code",
   "execution_count": null,
   "id": "b7c5d66c",
   "metadata": {},
   "outputs": [],
   "source": []
  },
  {
   "cell_type": "code",
   "execution_count": null,
   "id": "50b17981",
   "metadata": {},
   "outputs": [],
   "source": []
  },
  {
   "cell_type": "code",
   "execution_count": null,
   "id": "c3a50407",
   "metadata": {},
   "outputs": [],
   "source": []
  },
  {
   "cell_type": "code",
   "execution_count": null,
   "id": "a9eede8a",
   "metadata": {},
   "outputs": [],
   "source": []
  },
  {
   "cell_type": "code",
   "execution_count": null,
   "id": "9d1d9524",
   "metadata": {},
   "outputs": [],
   "source": []
  }
 ],
 "metadata": {
  "kernelspec": {
   "display_name": "Python 3 (ipykernel)",
   "language": "python",
   "name": "python3"
  },
  "language_info": {
   "codemirror_mode": {
    "name": "ipython",
    "version": 3
   },
   "file_extension": ".py",
   "mimetype": "text/x-python",
   "name": "python",
   "nbconvert_exporter": "python",
   "pygments_lexer": "ipython3",
   "version": "3.9.7"
  }
 },
 "nbformat": 4,
 "nbformat_minor": 5
}
